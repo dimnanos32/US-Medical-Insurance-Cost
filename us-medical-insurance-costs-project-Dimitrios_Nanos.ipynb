{
 "cells": [
  {
   "cell_type": "markdown",
   "metadata": {},
   "source": [
    "# U.S. Medical Insurance Costs"
   ]
  },
  {
   "cell_type": "markdown",
   "metadata": {},
   "source": [
    "1)Importing our dataset"
   ]
  },
  {
   "cell_type": "code",
   "execution_count": 2,
   "metadata": {},
   "outputs": [],
   "source": [
    "import csv\n",
    "age=[]\n",
    "sex=[]\n",
    "bmi=[]\n",
    "children=[]\n",
    "smoker=[]\n",
    "region=[]\n",
    "charges=[]\n",
    "with open(\"insurance.csv\",newline='') as insurance_csv:\n",
    "    reader=csv.DictReader(insurance_csv)\n",
    "    for row in reader:\n",
    "        age.append(int(row[\"age\"]))\n",
    "        sex.append(row[\"sex\"])\n",
    "        bmi.append(float(row[\"bmi\"]))\n",
    "        children.append(int(row[\"children\"]))\n",
    "        smoker.append(row[\"smoker\"])\n",
    "        region.append(row[\"region\"])\n",
    "        charges.append(float(row[\"charges\"]))\n",
    "#Created lists containing the data from our 7 variables, after importing the dataset."
   ]
  },
  {
   "cell_type": "markdown",
   "metadata": {},
   "source": [
    "2)What is the average age of our sample?"
   ]
  },
  {
   "cell_type": "code",
   "execution_count": 3,
   "metadata": {},
   "outputs": [
    {
     "name": "stdout",
     "output_type": "stream",
     "text": [
      "Average age is 39.21\n"
     ]
    }
   ],
   "source": [
    "def average(l): #A function that calculates averages for my lists\n",
    "    total=0\n",
    "    for i in l:\n",
    "        total+=i\n",
    "    return total/len(l)\n",
    "print(\"Average age is\",format(average(age),'.2f'))"
   ]
  },
  {
   "cell_type": "markdown",
   "metadata": {},
   "source": [
    "3)What are the average charges/children/bmi of our sample?"
   ]
  },
  {
   "cell_type": "code",
   "execution_count": 15,
   "metadata": {},
   "outputs": [
    {
     "name": "stdout",
     "output_type": "stream",
     "text": [
      "Average charges are 13270.42$\n",
      "Average children are 1.09\n",
      "Average bmi is 30.66\n"
     ]
    }
   ],
   "source": [
    "print(\"Average charges are\",format(average(charges),'.2f')+\"$\")\n",
    "print(\"Average children are\",format(average(children),'.2f'))\n",
    "print(\"Average bmi is\",format(average(bmi),'.2f'))"
   ]
  },
  {
   "cell_type": "markdown",
   "metadata": {},
   "source": [
    "4)Where the majority of people are from?"
   ]
  },
  {
   "cell_type": "code",
   "execution_count": 16,
   "metadata": {},
   "outputs": [
    {
     "name": "stdout",
     "output_type": "stream",
     "text": [
      "The percentage of southeast region in our dataset is 27.20%\n",
      "The percentage of southwest region in our dataset is 24.29%\n",
      "The percentage of northeast region in our dataset is 24.22%\n",
      "The percentage of northwest region in our dataset is 24.29%\n"
     ]
    }
   ],
   "source": [
    "count_southeast=0\n",
    "count_southwest=0\n",
    "count_northwest=0\n",
    "count_northeast=0\n",
    "for area in region:\n",
    "    if area==\"southeast\":\n",
    "        count_southeast+=1\n",
    "    elif area==\"southwest\":\n",
    "        count_southwest+=1\n",
    "    elif area==\"northeast\":\n",
    "        count_northeast+=1\n",
    "    else:\n",
    "        count_northwest+=1\n",
    "print(\"The percentage of southeast region in our dataset is \"+str(format(count_southeast/len(region)*100,'.2f'))+\"%\")\n",
    "print(\"The percentage of southwest region in our dataset is \"+str(format(count_southwest/len(region)*100,'.2f'))+\"%\")\n",
    "print(\"The percentage of northeast region in our dataset is \"+str(format(count_northeast/len(region)*100,'.2f'))+\"%\")\n",
    "print(\"The percentage of northwest region in our dataset is \"+str(format(count_northwest/len(region)*100,'.2f'))+\"%\")\n",
    "        "
   ]
  },
  {
   "cell_type": "markdown",
   "metadata": {},
   "source": [
    "5)How much is the average charges for smoker vs no-smoker?"
   ]
  },
  {
   "cell_type": "code",
   "execution_count": 17,
   "metadata": {},
   "outputs": [
    {
     "name": "stdout",
     "output_type": "stream",
     "text": [
      "Average charges for a smoker 32050.23$\n",
      "Average charges for a no-smoker 8434.27$\n"
     ]
    }
   ],
   "source": [
    "total_yes=0\n",
    "smokers=0\n",
    "total_no=0\n",
    "no_smokers=0\n",
    "for i in range(len(smoker)):\n",
    "    if smoker[i]==\"yes\":\n",
    "        total_yes+=charges[i]\n",
    "        smokers+=1\n",
    "    else:\n",
    "        total_no+=charges[i]\n",
    "        no_smokers+=1\n",
    "print(\"Average charges for a smoker\",format(total_yes/smokers,'.2f')+\"$\")\n",
    "print(\"Average charges for a no-smoker\",format(total_no/no_smokers,'.2f')+\"$\")\n",
    "        "
   ]
  },
  {
   "cell_type": "markdown",
   "metadata": {},
   "source": [
    "6)How much is the average charges for male vs female?"
   ]
  },
  {
   "cell_type": "code",
   "execution_count": 18,
   "metadata": {},
   "outputs": [
    {
     "name": "stdout",
     "output_type": "stream",
     "text": [
      "Average charges for a male 13956.75$\n",
      "Average charges for a female 12569.58$\n"
     ]
    }
   ],
   "source": [
    "total_male=0\n",
    "males=0\n",
    "total_female=0\n",
    "females=0\n",
    "for i in range(len(sex)):\n",
    "    if sex[i]==\"male\":\n",
    "        total_male+=charges[i]\n",
    "        males+=1\n",
    "    else:\n",
    "        total_female+=charges[i]\n",
    "        females+=1\n",
    "print(\"Average charges for a male\",format(total_male/males,'.2f')+\"$\")\n",
    "print(\"Average charges for a female\",format(total_female/females,'.2f')+\"$\")"
   ]
  },
  {
   "cell_type": "markdown",
   "metadata": {},
   "source": [
    "7)How children affect charges?"
   ]
  },
  {
   "cell_type": "code",
   "execution_count": 19,
   "metadata": {},
   "outputs": [
    {
     "name": "stdout",
     "output_type": "stream",
     "text": [
      "Average charges for 0 children 12365.98$\n",
      "Average charges for 1 child 12731.17$\n",
      "Average charges for 2 children 15073.56$\n",
      "Average charges for 3 children 15355.32$\n",
      "Average charges for 4 children 13850.66$\n",
      "Average charges for 5 children 8786.04$\n"
     ]
    }
   ],
   "source": [
    "def maximum(l):    #created a function that calculates max and max position from my lists with arithmetic data\n",
    "    maximum=0\n",
    "    for i in range(len(l)):\n",
    "        if l[i]>maximum:\n",
    "            maximum=l[i]\n",
    "    return maximum\n",
    "maximum(children)\n",
    "\n",
    "total_1=0\n",
    "child1=0\n",
    "total_2=0\n",
    "child2=0\n",
    "total_3=0\n",
    "child3=0\n",
    "total_4=0\n",
    "child4=0\n",
    "total_5=0\n",
    "child5=0\n",
    "total_0=0\n",
    "child0=0\n",
    "for i in range(len(children)):\n",
    "    if children[i]==1:\n",
    "        total_1+=charges[i]\n",
    "        child1+=1\n",
    "    elif children[i]==2:\n",
    "        total_2+=charges[i]\n",
    "        child2+=1\n",
    "    elif children[i]==3:\n",
    "        total_3+=charges[i]\n",
    "        child3+=1\n",
    "    elif children[i]==4:\n",
    "        total_4+=charges[i]\n",
    "        child4+=1\n",
    "    elif children[i]==5:\n",
    "        total_5+=charges[i]\n",
    "        child5+=1\n",
    "    else:\n",
    "        total_0+=charges[i]\n",
    "        child0+=1\n",
    "print(\"Average charges for 0 children\",format(total_0/child0,'.2f')+\"$\")\n",
    "print(\"Average charges for 1 child\",format(total_1/child1,'.2f')+\"$\")\n",
    "print(\"Average charges for 2 children\",format(total_2/child2,'.2f')+\"$\")\n",
    "print(\"Average charges for 3 children\",format(total_3/child3,'.2f')+\"$\")\n",
    "print(\"Average charges for 4 children\",format(total_4/child4,'.2f')+\"$\")\n",
    "print(\"Average charges for 5 children\",format(total_5/child5,'.2f')+\"$\")\n",
    "        \n",
    "        "
   ]
  },
  {
   "cell_type": "markdown",
   "metadata": {},
   "source": [
    "8)How much region affects charges?"
   ]
  },
  {
   "cell_type": "code",
   "execution_count": 20,
   "metadata": {},
   "outputs": [
    {
     "name": "stdout",
     "output_type": "stream",
     "text": [
      "Average charges for southeast region 14735.41$\n",
      "Average charges for southwest region 12346.94$\n",
      "Average charges for northeast region 13406.38$\n",
      "Average charges for northwest region 12417.58$\n"
     ]
    }
   ],
   "source": [
    "total_r1=0\n",
    "r1=0\n",
    "total_r2=0\n",
    "r2=0\n",
    "total_r3=0\n",
    "r3=0\n",
    "total_r4=0\n",
    "r4=0\n",
    "for i in range(len(region)):\n",
    "    if region[i]==\"southeast\":\n",
    "        total_r1+=charges[i]\n",
    "        r1+=1\n",
    "    elif region[i]==\"southwest\":\n",
    "        total_r2+=charges[i]\n",
    "        r2+=1\n",
    "    elif region[i]==\"northeast\":\n",
    "        total_r3+=charges[i]\n",
    "        r3+=1\n",
    "    else:\n",
    "        total_r4+=charges[i]\n",
    "        r4+=1\n",
    "\n",
    "print(\"Average charges for southeast region\",format(total_r1/r1,'.2f')+\"$\")\n",
    "print(\"Average charges for southwest region\",format(total_r2/r2,'.2f')+\"$\")\n",
    "print(\"Average charges for northeast region\",format(total_r3/r3,'.2f')+\"$\")\n",
    "print(\"Average charges for northwest region\",format(total_r4/r4,'.2f')+\"$\")\n"
   ]
  },
  {
   "cell_type": "markdown",
   "metadata": {},
   "source": [
    "9)How much bmi affects charges?"
   ]
  },
  {
   "cell_type": "code",
   "execution_count": 21,
   "metadata": {},
   "outputs": [
    {
     "name": "stdout",
     "output_type": "stream",
     "text": [
      "Average charges for bmi>=30 15552.34$\n",
      "Average charges for bmi>=25 and <30 10987.51$\n",
      "Average charges for bmi>=20 and <25 10572.37$\n",
      "Average charges for bmi<20 8838.56$\n"
     ]
    }
   ],
   "source": [
    "total_bmi1=0\n",
    "bmi1=0\n",
    "total_bmi2=0\n",
    "bmi2=0\n",
    "total_bmi3=0\n",
    "bmi3=0\n",
    "total_bmi4=0\n",
    "bmi4=0\n",
    "for i in range(len(bmi)):\n",
    "    if bmi[i]>=30:\n",
    "        total_bmi1+=charges[i]\n",
    "        bmi1+=1\n",
    "    elif bmi[i]>=25:\n",
    "        total_bmi2+=charges[i]\n",
    "        bmi2+=1\n",
    "    elif bmi[i]>=20:\n",
    "        total_bmi3+=charges[i]\n",
    "        bmi3+=1\n",
    "    else:\n",
    "        total_bmi4+=charges[i]\n",
    "        bmi4+=1\n",
    "\n",
    "print(\"Average charges for bmi>=30\",format(total_bmi1/bmi1,'.2f')+\"$\")\n",
    "print(\"Average charges for bmi>=25 and <30\",format(total_bmi2/bmi2,'.2f')+\"$\")\n",
    "print(\"Average charges for bmi>=20 and <25\",format(total_bmi3/bmi3,'.2f')+\"$\")\n",
    "print(\"Average charges for bmi<20\",format(total_bmi4/bmi4,'.2f')+\"$\")\n"
   ]
  },
  {
   "cell_type": "markdown",
   "metadata": {},
   "source": [
    "10)How much age affects charges?"
   ]
  },
  {
   "cell_type": "code",
   "execution_count": 22,
   "metadata": {},
   "outputs": [
    {
     "name": "stdout",
     "output_type": "stream",
     "text": [
      "Average charges for age>=50 17902.55$\n",
      "Average charges for age>=35 and <50 13744.29$\n",
      "Average charges for age>=20 and <35 10094.28$\n",
      "Average charges for age<20 8407.35$\n"
     ]
    }
   ],
   "source": [
    "total_a1=0\n",
    "a1=0\n",
    "total_a2=0\n",
    "a2=0\n",
    "total_a3=0\n",
    "a3=0\n",
    "total_a4=0\n",
    "a4=0\n",
    "for i in range(len(age)):\n",
    "    if age[i]>=50:\n",
    "        total_a1+=charges[i]\n",
    "        a1+=1\n",
    "    elif age[i]>=35:\n",
    "        total_a2+=charges[i]\n",
    "        a2+=1\n",
    "    elif age[i]>=20:\n",
    "        total_a3+=charges[i]\n",
    "        a3+=1\n",
    "    else:\n",
    "        total_a4+=charges[i]\n",
    "        a4+=1\n",
    "\n",
    "print(\"Average charges for age>=50\",format(total_a1/a1,'.2f')+\"$\")\n",
    "print(\"Average charges for age>=35 and <50\",format(total_a2/a2,'.2f')+\"$\")\n",
    "print(\"Average charges for age>=20 and <35\",format(total_a3/a3,'.2f')+\"$\")\n",
    "print(\"Average charges for age<20\",format(total_a4/a4,'.2f')+\"$\")"
   ]
  },
  {
   "cell_type": "markdown",
   "metadata": {},
   "source": [
    "Now, we will create a dictionary to make easy to do further analysis in the future."
   ]
  },
  {
   "cell_type": "code",
   "execution_count": 23,
   "metadata": {},
   "outputs": [],
   "source": [
    "insurance_dict={\"age\":age,\"sex\":sex,\"bmi\":children,\"smoker\":smoker,\"region\":region,\"charges\":charges}"
   ]
  },
  {
   "cell_type": "markdown",
   "metadata": {},
   "source": [
    "After this analysis, we found out that a high bmi and age, in addition with smoking, force us to pay more for a health insurance. In conclusion, if we want to live many years, we must maintain our bmi in regular levels and quit smoking."
   ]
  }
 ],
 "metadata": {
  "kernelspec": {
   "display_name": "Python 3 (ipykernel)",
   "language": "python",
   "name": "python3"
  },
  "language_info": {
   "codemirror_mode": {
    "name": "ipython",
    "version": 3
   },
   "file_extension": ".py",
   "mimetype": "text/x-python",
   "name": "python",
   "nbconvert_exporter": "python",
   "pygments_lexer": "ipython3",
   "version": "3.9.13"
  }
 },
 "nbformat": 4,
 "nbformat_minor": 4
}
